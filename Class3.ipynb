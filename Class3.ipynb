{
 "cells": [
  {
   "cell_type": "code",
   "execution_count": 10,
   "metadata": {},
   "outputs": [
    {
     "name": "stdout",
     "output_type": "stream",
     "text": [
      "enter102\n",
      "102 is even\n"
     ]
    }
   ],
   "source": [
    "# Check even odd\n",
    "a=int(input(\"enter\"))\n",
    "if a%2==0: # if a%2!=0: print(\"odd\")\n",
    "    print(f\"{a} is even\")\n",
    "else:\n",
    "        print(\"odd\")"
   ]
  },
  {
   "cell_type": "code",
   "execution_count": null,
   "metadata": {},
   "outputs": [],
   "source": [
    "#Data Type, 4 types\n",
    "a=10\n",
    "b=10.5\n",
    "c=true\n",
    "d=\"string\""
   ]
  },
  {
   "cell_type": "code",
   "execution_count": null,
   "metadata": {},
   "outputs": [],
   "source": [
    "#short key of a=a+1, similarlry -,*,/.\n",
    "a=1\n",
    "a+=1"
   ]
  },
  {
   "cell_type": "code",
   "execution_count": 4,
   "metadata": {},
   "outputs": [
    {
     "name": "stdout",
     "output_type": "stream",
     "text": [
      "enter25\n",
      "enterAli\n",
      "name is Aliage is50\n",
      "name is Ali and age is 25\n",
      "name is Ali age is 25\n"
     ]
    }
   ],
   "source": [
    "#eliminating ambiguity is just prcedence orde like bodmas\n",
    "#concatenating string text\n",
    "#user input always is string by default\n",
    "# {} is called place holder\n",
    "age=int(input(\"enter\"))\n",
    "name=input(\"enter\")\n",
    "print(\"name is \"+name+\"age is\"+str(age+age))# is called concatenating\n",
    "print(\"name is {} and age is {}\".format(name,age))# use of function .format\n",
    "print(f\"name is {name} age is {age}\") #simple use of\"f, instead of .format"
   ]
  },
  {
   "cell_type": "code",
   "execution_count": 11,
   "metadata": {},
   "outputs": [
    {
     "ename": "IndentationError",
     "evalue": "unexpected indent (<ipython-input-11-031515dd18d8>, line 8)",
     "output_type": "error",
     "traceback": [
      "\u001b[1;36m  File \u001b[1;32m\"<ipython-input-11-031515dd18d8>\"\u001b[1;36m, line \u001b[1;32m8\u001b[0m\n\u001b[1;33m    print()# it is indenting error\u001b[0m\n\u001b[1;37m    ^\u001b[0m\n\u001b[1;31mIndentationError\u001b[0m\u001b[1;31m:\u001b[0m unexpected indent\n"
     ]
    }
   ],
   "source": [
    "#if statement\n",
    "a=100\n",
    "b=20\n",
    "if a<b:\n",
    "    print(\"a chota h\") #after function or if when body start there is a space of one tab, is called indenting\n",
    "    print()\n",
    "    print\n",
    "     print()# it is indenting error\n",
    "    if a>b: # it does not work, because of first condition\n",
    "if a>b: # it works, because it does not depend on first condition\n",
    "print(\"if end\") # it oworks, because it is not the part of if"
   ]
  },
  {
   "cell_type": "code",
   "execution_count": null,
   "metadata": {},
   "outputs": [],
   "source": []
  }
 ],
 "metadata": {
  "kernelspec": {
   "display_name": "Python 3",
   "language": "python",
   "name": "python3"
  },
  "language_info": {
   "codemirror_mode": {
    "name": "ipython",
    "version": 3
   },
   "file_extension": ".py",
   "mimetype": "text/x-python",
   "name": "python",
   "nbconvert_exporter": "python",
   "pygments_lexer": "ipython3",
   "version": "3.7.3"
  }
 },
 "nbformat": 4,
 "nbformat_minor": 2
}
