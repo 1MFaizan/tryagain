{
 "cells": [
  {
   "cell_type": "code",
   "execution_count": null,
   "metadata": {},
   "outputs": [],
   "source": []
  },
  {
   "cell_type": "code",
   "execution_count": 21,
   "metadata": {},
   "outputs": [
    {
     "name": "stdout",
     "output_type": "stream",
     "text": [
      "My name isM.Faizan, I am25 withMSc Maths from UoK\n"
     ]
    }
   ],
   "source": [
    "a='M.Faizan'\n",
    "b=\"Sheikh\"\n",
    "c=25 \n",
    "d=\"MSc Maths\"\n",
    "print(f\"My name is{a}, I am{c} with{d} from UoK\")"
   ]
  },
  {
   "cell_type": "code",
   "execution_count": 20,
   "metadata": {},
   "outputs": [
    {
     "name": "stdout",
     "output_type": "stream",
     "text": [
      "My name is M.Faizan, I am 25 with MSc Maths from UoK\n"
     ]
    }
   ],
   "source": [
    "a='M.Faizan'\n",
    "b=\"Sheikh\"\n",
    "c=25\n",
    "d=\"MSc Maths\"\n",
    "print(f\"My name is {a}, I am {c} with {d} from UoK\")"
   ]
  },
  {
   "cell_type": "code",
   "execution_count": 38,
   "metadata": {},
   "outputs": [
    {
     "data": {
      "text/plain": [
       "'alialialialialialialialialialialialialialialiali'"
      ]
     },
     "execution_count": 38,
     "metadata": {},
     "output_type": "execute_result"
    }
   ],
   "source": [
    "f='ali'\n",
    "b='ali'*4\n",
    "c=4*'ali'\n",
    "d=4*'ali'*4\n",
    "d"
   ]
  },
  {
   "cell_type": "code",
   "execution_count": 33,
   "metadata": {},
   "outputs": [
    {
     "data": {
      "text/plain": [
       "2"
      ]
     },
     "execution_count": 33,
     "metadata": {},
     "output_type": "execute_result"
    }
   ],
   "source": [
    "a=4\n",
    "b=2\n",
    "c=a/b\n",
    "c\n",
    "c=a//b #just for integer output\n",
    "c"
   ]
  },
  {
   "cell_type": "code",
   "execution_count": 18,
   "metadata": {},
   "outputs": [
    {
     "name": "stdout",
     "output_type": "stream",
     "text": [
      "my name is ali and my age is 15\n"
     ]
    }
   ],
   "source": [
    "name=\"ali\"\n",
    "age=15\n",
    "print(f\"my name is {name} and my age is {age}\")#we don't need to write.formate,use 'f' after just starting bracket of print."
   ]
  },
  {
   "cell_type": "code",
   "execution_count": 16,
   "metadata": {},
   "outputs": [
    {
     "name": "stdout",
     "output_type": "stream",
     "text": [
      "my name is 15 and my age is ali\n"
     ]
    }
   ],
   "source": [
    "name=\"ali\"\n",
    "age=15\n",
    "print(\"my name is {1} and my age is {0}\".format(name,age))#0 and 1 is index value, by default it run respectively"
   ]
  },
  {
   "cell_type": "code",
   "execution_count": 17,
   "metadata": {},
   "outputs": [
    {
     "name": "stdout",
     "output_type": "stream",
     "text": [
      "my name is ali and my age is 15\n"
     ]
    }
   ],
   "source": [
    "name=\"ali\"\n",
    "age=15\n",
    "print(\"my name is {} and my age is {}\".format(name,age))"
   ]
  },
  {
   "cell_type": "markdown",
   "metadata": {},
   "source": []
  },
  {
   "cell_type": "code",
   "execution_count": 13,
   "metadata": {},
   "outputs": [
    {
     "name": "stdout",
     "output_type": "stream",
     "text": [
      "my name isaliand my age is15\n"
     ]
    }
   ],
   "source": [
    "name=\"ali\"\n",
    "age=15\n",
    "print(\"my name is\"+name+\"and my age is\"+str(age))"
   ]
  },
  {
   "cell_type": "code",
   "execution_count": 1,
   "metadata": {},
   "outputs": [
    {
     "name": "stdout",
     "output_type": "stream",
     "text": [
      "102\n",
      "2hello\n"
     ]
    }
   ],
   "source": [
    "print(2+int(\"100\"))#it's called type casting or wrapping. (combining string with + is called concatination)\n",
    "print(str(2)+\"hello\") #int and str can't add but can concatinate like 2hello, by making int into str."
   ]
  },
  {
   "cell_type": "code",
   "execution_count": 10,
   "metadata": {},
   "outputs": [
    {
     "name": "stdout",
     "output_type": "stream",
     "text": [
      "aaaaa\tbbbbb\t"
     ]
    }
   ],
   "source": [
    "print(\"aaaaa\",end='\\t') #by default new line is set, search step sequences like \\t and \\n, and use it(13) are there\n",
    "print(\"bbbbb\",end='\\t')"
   ]
  },
  {
   "cell_type": "code",
   "execution_count": 9,
   "metadata": {},
   "outputs": [
    {
     "name": "stdout",
     "output_type": "stream",
     "text": [
      "hi===5===5.5\n"
     ]
    }
   ],
   "source": [
    "print(\"hi\", 5, 5.5,sep='===')#by default just a space"
   ]
  },
  {
   "cell_type": "code",
   "execution_count": 4,
   "metadata": {},
   "outputs": [
    {
     "name": "stdout",
     "output_type": "stream",
     "text": [
      "Ahmed's bag\n"
     ]
    }
   ],
   "source": [
    "print(\"Ahmed's bag\") #print('Ahmed's bag') #error"
   ]
  },
  {
   "cell_type": "code",
   "execution_count": 1,
   "metadata": {},
   "outputs": [
    {
     "name": "stdout",
     "output_type": "stream",
     "text": [
      "Hello\n",
      "8\n",
      "8.5\n"
     ]
    },
    {
     "data": {
      "text/plain": [
       "str"
      ]
     },
     "execution_count": 1,
     "metadata": {},
     "output_type": "execute_result"
    }
   ],
   "source": [
    "#Data Types\n",
    "print(\"Hello\") #string, always should be written in double or single quates\n",
    "print(8) #integer\n",
    "print(8.5) #float \n",
    "type(\"Hello\")"
   ]
  }
 ],
 "metadata": {
  "kernelspec": {
   "display_name": "Python 3",
   "language": "python",
   "name": "python3"
  },
  "language_info": {
   "codemirror_mode": {
    "name": "ipython",
    "version": 3
   },
   "file_extension": ".py",
   "mimetype": "text/x-python",
   "name": "python",
   "nbconvert_exporter": "python",
   "pygments_lexer": "ipython3",
   "version": "3.7.3"
  }
 },
 "nbformat": 4,
 "nbformat_minor": 2
}
