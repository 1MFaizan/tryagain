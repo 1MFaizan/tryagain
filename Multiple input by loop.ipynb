{
 "cells": [
  {
   "cell_type": "code",
   "execution_count": 1,
   "metadata": {},
   "outputs": [
    {
     "name": "stdout",
     "output_type": "stream",
     "text": [
      "Enter Ali\n",
      "Enter 25\n",
      "Enter Anus\n",
      "Enter 25.5\n",
      "Enter Umar\n",
      "Enter 90.5\n"
     ]
    }
   ],
   "source": [
    "a=1\n",
    "for a in range(1,4):\n",
    "    b=input(\"Enter \")\n",
    "    c=float(input(\"Enter \"))"
   ]
  },
  {
   "cell_type": "code",
   "execution_count": 8,
   "metadata": {},
   "outputs": [
    {
     "name": "stdout",
     "output_type": "stream",
     "text": [
      "Enter5\n",
      "5\n",
      "Enter5.5\n",
      "5.5\n",
      "Enter5.6\n",
      "5.6\n"
     ]
    }
   ],
   "source": [
    "a=int(input(\"Enter\"))\n",
    "print(a)\n",
    "b=float(input(\"Enter\"))\n",
    "print(b)\n",
    "c=str(input(\"Enter\"))\n",
    "print(c)"
   ]
  }
 ],
 "metadata": {
  "kernelspec": {
   "display_name": "Python 3",
   "language": "python",
   "name": "python3"
  },
  "language_info": {
   "codemirror_mode": {
    "name": "ipython",
    "version": 3
   },
   "file_extension": ".py",
   "mimetype": "text/x-python",
   "name": "python",
   "nbconvert_exporter": "python",
   "pygments_lexer": "ipython3",
   "version": "3.7.3"
  }
 },
 "nbformat": 4,
 "nbformat_minor": 2
}
