{
 "cells": [
  {
   "cell_type": "code",
   "execution_count": 20,
   "metadata": {},
   "outputs": [
    {
     "name": "stdout",
     "output_type": "stream",
     "text": [
      "Your total marks are 1100\n",
      "Each subject contains 100 marks, except Pak Study(contains 50)\n",
      "Now enter your marks:\n",
      "urdu        = 88\n",
      "English     = 99\n",
      "Physics     = 55\n",
      "Chemistry   = 11\n",
      "Pak Study   = 50\n",
      "Mathematics = 100\n",
      "Your total marks =  403\n",
      "Your percentage  =  73.27272727272727\n",
      "You got the A\n"
     ]
    }
   ],
   "source": [
    "print(\"Your total marks are 1100\\nEach subject contains 100 marks, except Pak Study(contains 50)\\nNow enter your marks:\")\n",
    "b=int(input(\"urdu        = \"))\n",
    "if b>100:\n",
    "    print(\"Sorry\")\n",
    "else:\n",
    "    c=int(input(\"English     = \"))\n",
    "    if c>100:\n",
    "        print(\"Sorry\")\n",
    "    else:\n",
    "        d=int(input(\"Physics     = \"))\n",
    "        if d>100:\n",
    "            print(\"Sorry\")\n",
    "        else:\n",
    "            e=int(input(\"Chemistry   = \"))\n",
    "            if e>100:\n",
    "                    print(\"Sorry\")\n",
    "            else:\n",
    "                f=int(input(\"Pak Study   = \"))\n",
    "                if f>50:\n",
    "                        print(\"Sorry\")\n",
    "                else:\n",
    "                    g=int(input(\"Mathematics = \"))\n",
    "                    if g>100:\n",
    "                            print(\"Sorry\")\n",
    "                    else:\n",
    "                        h=b+c+d+e+f+g\n",
    "                        i=h*100/550\n",
    "                        print(f\"Your total marks = \",h)\n",
    "                        print(f\"Your percentage  = \",i)\n",
    "                        if i>=80:\n",
    "                                print(\"You got the A+1\")\n",
    "                        elif i>=70:\n",
    "                                 print(\"You got the A\")\n",
    "                        elif i>=60:\n",
    "                                  print(\"You got the B\")\n",
    "                        elif i>=50:\n",
    "                                 print(\"You got the C\")\n",
    "                        elif i>=40:\n",
    "                                print(\"You got the D\")\n",
    "                        elif i>=33:\n",
    "                                print(\"You got the E\")\n",
    "                        else:\n",
    "                             print(\"Sorry, you are FAIL!\")    "
   ]
  },
  {
   "cell_type": "code",
   "execution_count": 18,
   "metadata": {},
   "outputs": [
    {
     "name": "stdout",
     "output_type": "stream",
     "text": [
      "\t1 For Additon\t\t2 For Subtraction\n",
      "\t3 For Multiplication\t4 For Division\n",
      "\t9\n",
      "You entered wrong number!\n"
     ]
    }
   ],
   "source": [
    "a=int(input(\"\\t1 For Additon\\t\\t2 For Subtraction\\n\\t3 For Multiplication\\t4 For Division\\n\\t\"))\n",
    "if a > 4:\n",
    "    print(\"You entered wrong number!\")\n",
    "elif a==1:\n",
    "    print(\"You are going to ADDITION\")\n",
    "    b=int(input(\"1st Number  = \"))\n",
    "    c=int(input(\"2nd Number  = \")) \n",
    "    s=b+c\n",
    "    print(f\"Your answer = \",s)\n",
    "elif a==2:\n",
    "    print(\"You are going to SUBTRACT\")\n",
    "    b=int(input(\"1st Number  = \"))\n",
    "    c=int(input(\"2nd Number  = \")) \n",
    "    s=b-c\n",
    "    print(f\"Your answer = \",s)\n",
    "elif a==3:\n",
    "    print(\"You are going to MULTIPLIICATION\")\n",
    "    b=int(input(\"1st Number  = \"))\n",
    "    c=int(input(\"2nd Number  = \")) \n",
    "    s=b*c\n",
    "    print(f\"Your answer = \",s)\n",
    "elif a==4:\n",
    "    print(\"You are going to DIVISION\")\n",
    "    b=int(input(\"1st Number  = \"))\n",
    "    c=int(input(\"2nd Number  = \")) \n",
    "    s=b/c\n",
    "    print(f\"Your answer = \",s)\n",
    "else:\n",
    "        print(\"Good\")\n",
    "    "
   ]
  },
  {
   "cell_type": "code",
   "execution_count": null,
   "metadata": {},
   "outputs": [],
   "source": []
  },
  {
   "cell_type": "code",
   "execution_count": null,
   "metadata": {},
   "outputs": [],
   "source": []
  },
  {
   "cell_type": "code",
   "execution_count": null,
   "metadata": {},
   "outputs": [],
   "source": []
  }
 ],
 "metadata": {
  "kernelspec": {
   "display_name": "Python 3",
   "language": "python",
   "name": "python3"
  },
  "language_info": {
   "codemirror_mode": {
    "name": "ipython",
    "version": 3
   },
   "file_extension": ".py",
   "mimetype": "text/x-python",
   "name": "python",
   "nbconvert_exporter": "python",
   "pygments_lexer": "ipython3",
   "version": "3.7.3"
  }
 },
 "nbformat": 4,
 "nbformat_minor": 2
}
