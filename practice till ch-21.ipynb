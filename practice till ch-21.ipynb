{
 "cells": [
  {
   "cell_type": "code",
   "execution_count": 77,
   "metadata": {},
   "outputs": [
    {
     "name": "stdout",
     "output_type": "stream",
     "text": [
      "2\n",
      "4\n",
      "6\n",
      "8\n",
      "10\n",
      "12\n",
      "12\n",
      "14\n",
      "16\n",
      "18\n",
      "20\n"
     ]
    }
   ],
   "source": [
    "for i in range(1,21):\n",
    "    if i % 2 == 0:\n",
    "        print(i)\n",
    "    if i == 12:\n",
    "            print(i)"
   ]
  },
  {
   "cell_type": "code",
   "execution_count": 31,
   "metadata": {},
   "outputs": [
    {
     "name": "stdout",
     "output_type": "stream",
     "text": [
      "second element is dd\n",
      "second element is dd\n"
     ]
    }
   ],
   "source": [
    "a=(\"ss\",\"dd\",\"ff\",\"gg\") # chapter 20\n",
    "print(\"second element is \" + a[1])\n",
    "b=a[1]\n",
    "print(\"second element is \" + b)"
   ]
  },
  {
   "cell_type": "code",
   "execution_count": 21,
   "metadata": {},
   "outputs": [
    {
     "name": "stdout",
     "output_type": "stream",
     "text": [
      "dd\n",
      "['ss', 'dd', 'ff', 'gg']\n"
     ]
    }
   ],
   "source": [
    "a=[\"ss\",\"dd\",\"ff\",\"gg\"] # chapter 19\n",
    "b=a.pop(1)\n",
    "print(b)\n",
    "a.insert(1,b)\n",
    "print(a)"
   ]
  },
  {
   "cell_type": "code",
   "execution_count": 20,
   "metadata": {},
   "outputs": [
    {
     "ename": "SyntaxError",
     "evalue": "invalid syntax (<ipython-input-20-17d371cf1862>, line 2)",
     "output_type": "error",
     "traceback": [
      "\u001b[1;36m  File \u001b[1;32m\"<ipython-input-20-17d371cf1862>\"\u001b[1;36m, line \u001b[1;32m2\u001b[0m\n\u001b[1;33m    b=del a[1]\u001b[0m\n\u001b[1;37m        ^\u001b[0m\n\u001b[1;31mSyntaxError\u001b[0m\u001b[1;31m:\u001b[0m invalid syntax\n"
     ]
    }
   ],
   "source": [
    "a=[\"ss\",\"dd\",\"ff\",\"gg\"] # chapter 18\n",
    "del a[1]\n",
    "print(a)\n",
    "a.remove(\"ff\")\n",
    "print(a)"
   ]
  },
  {
   "cell_type": "code",
   "execution_count": 13,
   "metadata": {},
   "outputs": [
    {
     "name": "stdout",
     "output_type": "stream",
     "text": [
      "['rr', 'ee', 'ww']\n",
      "['rr', 'ee', 'ww', 'qq']\n",
      "['aa', 'ss', 'rr']\n"
     ]
    }
   ],
   "source": [
    "a=[\"aa\",\"ss\",\"rr\",\"ee\",\"ww\",\"qq\"] # chqpter 17\n",
    "b=a[2:5]\n",
    "c=a[2:]\n",
    "d=a[:3]\n",
    "print(b)\n",
    "print(c)\n",
    "print(d)"
   ]
  },
  {
   "cell_type": "code",
   "execution_count": 22,
   "metadata": {},
   "outputs": [
    {
     "name": "stdout",
     "output_type": "stream",
     "text": [
      "bb\n"
     ]
    },
    {
     "data": {
      "text/plain": [
       "['aa', 'bb', 'cc', 'gg', 'dd', 22]"
      ]
     },
     "execution_count": 22,
     "metadata": {},
     "output_type": "execute_result"
    }
   ],
   "source": [
    "a=[\"aa\",\"bb\",\"cc\"] # chapter 16\n",
    "print(a[1])\n",
    "a.append(\"dd\")\n",
    "a.append(22)\n",
    "a.insert(3,\"gg\")\n",
    "a"
   ]
  },
  {
   "cell_type": "code",
   "execution_count": 9,
   "metadata": {},
   "outputs": [
    {
     "name": "stdout",
     "output_type": "stream",
     "text": [
      "2\n"
     ]
    },
    {
     "data": {
      "text/plain": [
       "13"
      ]
     },
     "execution_count": 9,
     "metadata": {},
     "output_type": "execute_result"
    }
   ],
   "source": [
    "a=9%4\n",
    "a+=1 #similarly a-=1 ans=0\n",
    "print(a)\n",
    "b=1+3*4\n",
    "b"
   ]
  }
 ],
 "metadata": {
  "kernelspec": {
   "display_name": "Python 3",
   "language": "python",
   "name": "python3"
  },
  "language_info": {
   "codemirror_mode": {
    "name": "ipython",
    "version": 3
   },
   "file_extension": ".py",
   "mimetype": "text/x-python",
   "name": "python",
   "nbconvert_exporter": "python",
   "pygments_lexer": "ipython3",
   "version": "3.7.3"
  }
 },
 "nbformat": 4,
 "nbformat_minor": 2
}
