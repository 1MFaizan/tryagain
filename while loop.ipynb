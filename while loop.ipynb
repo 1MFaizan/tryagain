{
 "cells": [
  {
   "cell_type": "code",
   "execution_count": null,
   "metadata": {},
   "outputs": [],
   "source": [
    "i=1 # endless loop\n",
    "while i<=5 \n",
    "    print (i)"
   ]
  },
  {
   "cell_type": "code",
   "execution_count": 25,
   "metadata": {},
   "outputs": [
    {
     "name": "stdout",
     "output_type": "stream",
     "text": [
      "S.No.\t\tBasic Salary\tCommission\tBonus\t\tGross Salary\tTax\t\tNet Salary\n",
      "1 \t\t 5000 \t\t 500 \t\t 250 \t\t 5750 \t\t 100 \t\t 5650\n",
      "2 \t\t 10000 \t\t 1000 \t\t 500 \t\t 11500 \t\t 200 \t\t 11300\n",
      "3 \t\t 15000 \t\t 1500 \t\t 750 \t\t 17250 \t\t 300 \t\t 16950\n",
      "4 \t\t 20000 \t\t 2000 \t\t 1000 \t\t 23000 \t\t 400 \t\t 22600\n",
      "5 \t\t 25000 \t\t 2500 \t\t 1250 \t\t 28750 \t\t 500 \t\t 28250\n"
     ]
    }
   ],
   "source": [
    "from math import *\n",
    "i=1\n",
    "a=5000\n",
    "print(\"S.No.\\t\\tBasic Salary\\tCommission\\tBonus\\t\\tGross Salary\\tTax\\t\\tNet Salary\")\n",
    "while i<=5:\n",
    "    b=a*10//100\n",
    "    c=a*5//100\n",
    "    d=a+b+c\n",
    "    t=a*2//100\n",
    "    n=d-t\n",
    "    print(i,\"\\t\\t\", a,\"\\t\\t\",b,\"\\t\\t\",c,\"\\t\\t\",d,\"\\t\\t\",t,\"\\t\\t\",n)\n",
    "    i+=1\n",
    "    a+=5000"
   ]
  }
 ],
 "metadata": {
  "kernelspec": {
   "display_name": "Python 3",
   "language": "python",
   "name": "python3"
  },
  "language_info": {
   "codemirror_mode": {
    "name": "ipython",
    "version": 3
   },
   "file_extension": ".py",
   "mimetype": "text/x-python",
   "name": "python",
   "nbconvert_exporter": "python",
   "pygments_lexer": "ipython3",
   "version": "3.7.3"
  }
 },
 "nbformat": 4,
 "nbformat_minor": 2
}
